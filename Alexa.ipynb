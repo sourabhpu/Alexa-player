{
 "cells": [
  {
   "cell_type": "code",
   "execution_count": 1,
   "id": "05ff859d",
   "metadata": {},
   "outputs": [],
   "source": [
    "import pyaudio\n",
    "import speech_recognition as sr\n",
    "import pyttsx3\n",
    "import pywhatkit\n",
    "\n",
    "\n"
   ]
  },
  {
   "cell_type": "code",
   "execution_count": 2,
   "id": "e3462572",
   "metadata": {},
   "outputs": [],
   "source": [
    "# Initialize recognizer and text-to-speech engine\n",
    "listener = sr.Recognizer()\n",
    "engine = pyttsx3.init()"
   ]
  },
  {
   "cell_type": "code",
   "execution_count": 3,
   "id": "adbdb951",
   "metadata": {},
   "outputs": [],
   "source": [
    "# Set the voice property (female voice in this case)\n",
    "voices = engine.getProperty('voices')\n",
    "engine.setProperty('voice', voices[1].id)"
   ]
  },
  {
   "cell_type": "code",
   "execution_count": 4,
   "id": "2358b90c",
   "metadata": {},
   "outputs": [],
   "source": [
    "# Function to convert text to speech\n",
    "def talk(text):\n",
    "    engine.say(text)\n",
    "    engine.runAndWait()\n"
   ]
  },
  {
   "cell_type": "code",
   "execution_count": 5,
   "id": "f89f6381",
   "metadata": {},
   "outputs": [],
   "source": [
    "# Function to capture voice commands\n",
    "def take_command():\n",
    "    try:\n",
    "        with sr.Microphone() as source:\n",
    "            print('Listening...')\n",
    "            listener.adjust_for_ambient_noise(source, duration=1)  # Adjust for background noise\n",
    "            voice = listener.listen(source)\n",
    "            command = listener.recognize_google(voice)\n",
    "            command = command.lower()  # Convert to lower case\n",
    "            if 'alexa' in command:\n",
    "                command = command.replace('alexa', '')  # Remove 'alexa' from the command\n",
    "                print(f\"Recognized command: {command}\")\n",
    "                return command.strip()  # Return cleaned command\n",
    "            else:\n",
    "                print(\"Did not hear 'alexa' in the command.\")\n",
    "                return \"\"\n",
    "    except sr.UnknownValueError:\n",
    "        print(\"Sorry, I did not understand that.\")\n",
    "        return \"\"\n",
    "    except sr.RequestError:\n",
    "        print(\"Sorry, there's an issue with the recognition service.\")\n",
    "        return \"\"\n",
    "    except Exception as e:\n",
    "        print(f\"An error occurred: {e}\")\n",
    "        return \"\""
   ]
  },
  {
   "cell_type": "code",
   "execution_count": null,
   "id": "26c9a142",
   "metadata": {},
   "outputs": [
    {
     "name": "stdout",
     "output_type": "stream",
     "text": [
      "Listening...\n",
      "Recognized command:  play tumse hi song\n",
      "Executing command: play tumse hi song\n",
      "Listening...\n",
      "Sorry, I did not understand that.\n",
      "Listening...\n",
      "Sorry, I did not understand that.\n",
      "Listening...\n",
      "Recognized command:  play kabhi yadon mein aao song\n",
      "Executing command: play kabhi yadon mein aao song\n",
      "Listening...\n",
      "Sorry, I did not understand that.\n",
      "Listening...\n",
      "Sorry, I did not understand that.\n",
      "Listening...\n",
      "Sorry, I did not understand that.\n",
      "Listening...\n"
     ]
    }
   ],
   "source": [
    "# Function to process the commands\n",
    "def run_alexa():\n",
    "    command = take_command()\n",
    "    if command:\n",
    "        print(f\"Executing command: {command}\")\n",
    "        if 'play' in command:\n",
    "            song = command.replace('play', '').strip()  # Get song name and clean it\n",
    "            talk('Playing ' + song)\n",
    "            pywhatkit.playonyt(song)\n",
    "        else:\n",
    "            talk('Please say the command again.')\n",
    "    else:\n",
    "        talk(\"I didn't catch that. Please try again.\")\n",
    "\n",
    "# Run the assistant in a loop\n",
    "if __name__ == \"__main__\":\n",
    "    while True:\n",
    "        run_alexa()"
   ]
  },
  {
   "cell_type": "code",
   "execution_count": null,
   "id": "11e688d6",
   "metadata": {},
   "outputs": [],
   "source": []
  }
 ],
 "metadata": {
  "kernelspec": {
   "display_name": "Python 3 (ipykernel)",
   "language": "python",
   "name": "python3"
  },
  "language_info": {
   "codemirror_mode": {
    "name": "ipython",
    "version": 3
   },
   "file_extension": ".py",
   "mimetype": "text/x-python",
   "name": "python",
   "nbconvert_exporter": "python",
   "pygments_lexer": "ipython3",
   "version": "3.10.9"
  }
 },
 "nbformat": 4,
 "nbformat_minor": 5
}
